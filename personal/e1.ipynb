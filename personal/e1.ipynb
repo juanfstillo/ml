{
 "cells": [
  {
   "cell_type": "markdown",
   "id": "fb4d8a98",
   "metadata": {},
   "source": [
    "# Organización y presentación de datos"
   ]
  },
  {
   "cell_type": "markdown",
   "id": "a84f9296",
   "metadata": {},
   "source": [
    "## tablas"
   ]
  },
  {
   "cell_type": "code",
   "execution_count": 1,
   "id": "23446bda",
   "metadata": {},
   "outputs": [
    {
     "data": {
      "text/html": [
       "<div>\n",
       "<style scoped>\n",
       "    .dataframe tbody tr th:only-of-type {\n",
       "        vertical-align: middle;\n",
       "    }\n",
       "\n",
       "    .dataframe tbody tr th {\n",
       "        vertical-align: top;\n",
       "    }\n",
       "\n",
       "    .dataframe thead th {\n",
       "        text-align: right;\n",
       "    }\n",
       "</style>\n",
       "<table border=\"1\" class=\"dataframe\">\n",
       "  <thead>\n",
       "    <tr style=\"text-align: right;\">\n",
       "      <th></th>\n",
       "      <th>sexo</th>\n",
       "      <th>código</th>\n",
       "      <th>frecuencia</th>\n",
       "    </tr>\n",
       "  </thead>\n",
       "  <tbody>\n",
       "    <tr>\n",
       "      <th>0</th>\n",
       "      <td>Masculino</td>\n",
       "      <td>0</td>\n",
       "      <td>5</td>\n",
       "    </tr>\n",
       "    <tr>\n",
       "      <th>1</th>\n",
       "      <td>Femenino</td>\n",
       "      <td>1</td>\n",
       "      <td>6</td>\n",
       "    </tr>\n",
       "    <tr>\n",
       "      <th>2</th>\n",
       "      <td>Otro</td>\n",
       "      <td>2</td>\n",
       "      <td>2</td>\n",
       "    </tr>\n",
       "  </tbody>\n",
       "</table>\n",
       "</div>"
      ],
      "text/plain": [
       "        sexo  código  frecuencia\n",
       "0  Masculino       0           5\n",
       "1   Femenino       1           6\n",
       "2       Otro       2           2"
      ]
     },
     "execution_count": 1,
     "metadata": {},
     "output_type": "execute_result"
    }
   ],
   "source": [
    "import pandas as pd\n",
    "data_0 = {'sexo':['Masculino','Femenino','Otro'], 'código': [0,1,2], 'frecuencia':[5,6,2]}\n",
    "pd_0 = pd.DataFrame(data=data_0)\n",
    "pd_0"
   ]
  },
  {
   "cell_type": "code",
   "execution_count": 2,
   "id": "2d19b0f2",
   "metadata": {},
   "outputs": [
    {
     "data": {
      "text/html": [
       "<div>\n",
       "<style scoped>\n",
       "    .dataframe tbody tr th:only-of-type {\n",
       "        vertical-align: middle;\n",
       "    }\n",
       "\n",
       "    .dataframe tbody tr th {\n",
       "        vertical-align: top;\n",
       "    }\n",
       "\n",
       "    .dataframe thead th {\n",
       "        text-align: right;\n",
       "    }\n",
       "</style>\n",
       "<table border=\"1\" class=\"dataframe\">\n",
       "  <thead>\n",
       "    <tr style=\"text-align: right;\">\n",
       "      <th></th>\n",
       "      <th>pclass</th>\n",
       "      <th>name</th>\n",
       "      <th>sex</th>\n",
       "      <th>age</th>\n",
       "      <th>sibsp</th>\n",
       "      <th>parch</th>\n",
       "      <th>ticket</th>\n",
       "      <th>fare</th>\n",
       "      <th>cabin</th>\n",
       "      <th>embarked</th>\n",
       "      <th>boat</th>\n",
       "      <th>body</th>\n",
       "      <th>home.dest</th>\n",
       "    </tr>\n",
       "  </thead>\n",
       "  <tbody>\n",
       "    <tr>\n",
       "      <th>0</th>\n",
       "      <td>1.0</td>\n",
       "      <td>Allen, Miss. Elisabeth Walton</td>\n",
       "      <td>female</td>\n",
       "      <td>29.0000</td>\n",
       "      <td>0.0</td>\n",
       "      <td>0.0</td>\n",
       "      <td>24160</td>\n",
       "      <td>211.3375</td>\n",
       "      <td>B5</td>\n",
       "      <td>S</td>\n",
       "      <td>2</td>\n",
       "      <td>NaN</td>\n",
       "      <td>St Louis, MO</td>\n",
       "    </tr>\n",
       "    <tr>\n",
       "      <th>1</th>\n",
       "      <td>1.0</td>\n",
       "      <td>Allison, Master. Hudson Trevor</td>\n",
       "      <td>male</td>\n",
       "      <td>0.9167</td>\n",
       "      <td>1.0</td>\n",
       "      <td>2.0</td>\n",
       "      <td>113781</td>\n",
       "      <td>151.5500</td>\n",
       "      <td>C22 C26</td>\n",
       "      <td>S</td>\n",
       "      <td>11</td>\n",
       "      <td>NaN</td>\n",
       "      <td>Montreal, PQ / Chesterville, ON</td>\n",
       "    </tr>\n",
       "    <tr>\n",
       "      <th>2</th>\n",
       "      <td>1.0</td>\n",
       "      <td>Allison, Miss. Helen Loraine</td>\n",
       "      <td>female</td>\n",
       "      <td>2.0000</td>\n",
       "      <td>1.0</td>\n",
       "      <td>2.0</td>\n",
       "      <td>113781</td>\n",
       "      <td>151.5500</td>\n",
       "      <td>C22 C26</td>\n",
       "      <td>S</td>\n",
       "      <td>None</td>\n",
       "      <td>NaN</td>\n",
       "      <td>Montreal, PQ / Chesterville, ON</td>\n",
       "    </tr>\n",
       "    <tr>\n",
       "      <th>3</th>\n",
       "      <td>1.0</td>\n",
       "      <td>Allison, Mr. Hudson Joshua Creighton</td>\n",
       "      <td>male</td>\n",
       "      <td>30.0000</td>\n",
       "      <td>1.0</td>\n",
       "      <td>2.0</td>\n",
       "      <td>113781</td>\n",
       "      <td>151.5500</td>\n",
       "      <td>C22 C26</td>\n",
       "      <td>S</td>\n",
       "      <td>None</td>\n",
       "      <td>135.0</td>\n",
       "      <td>Montreal, PQ / Chesterville, ON</td>\n",
       "    </tr>\n",
       "    <tr>\n",
       "      <th>4</th>\n",
       "      <td>1.0</td>\n",
       "      <td>Allison, Mrs. Hudson J C (Bessie Waldo Daniels)</td>\n",
       "      <td>female</td>\n",
       "      <td>25.0000</td>\n",
       "      <td>1.0</td>\n",
       "      <td>2.0</td>\n",
       "      <td>113781</td>\n",
       "      <td>151.5500</td>\n",
       "      <td>C22 C26</td>\n",
       "      <td>S</td>\n",
       "      <td>None</td>\n",
       "      <td>NaN</td>\n",
       "      <td>Montreal, PQ / Chesterville, ON</td>\n",
       "    </tr>\n",
       "    <tr>\n",
       "      <th>...</th>\n",
       "      <td>...</td>\n",
       "      <td>...</td>\n",
       "      <td>...</td>\n",
       "      <td>...</td>\n",
       "      <td>...</td>\n",
       "      <td>...</td>\n",
       "      <td>...</td>\n",
       "      <td>...</td>\n",
       "      <td>...</td>\n",
       "      <td>...</td>\n",
       "      <td>...</td>\n",
       "      <td>...</td>\n",
       "      <td>...</td>\n",
       "    </tr>\n",
       "    <tr>\n",
       "      <th>1304</th>\n",
       "      <td>3.0</td>\n",
       "      <td>Zabour, Miss. Hileni</td>\n",
       "      <td>female</td>\n",
       "      <td>14.5000</td>\n",
       "      <td>1.0</td>\n",
       "      <td>0.0</td>\n",
       "      <td>2665</td>\n",
       "      <td>14.4542</td>\n",
       "      <td>None</td>\n",
       "      <td>C</td>\n",
       "      <td>None</td>\n",
       "      <td>328.0</td>\n",
       "      <td>None</td>\n",
       "    </tr>\n",
       "    <tr>\n",
       "      <th>1305</th>\n",
       "      <td>3.0</td>\n",
       "      <td>Zabour, Miss. Thamine</td>\n",
       "      <td>female</td>\n",
       "      <td>NaN</td>\n",
       "      <td>1.0</td>\n",
       "      <td>0.0</td>\n",
       "      <td>2665</td>\n",
       "      <td>14.4542</td>\n",
       "      <td>None</td>\n",
       "      <td>C</td>\n",
       "      <td>None</td>\n",
       "      <td>NaN</td>\n",
       "      <td>None</td>\n",
       "    </tr>\n",
       "    <tr>\n",
       "      <th>1306</th>\n",
       "      <td>3.0</td>\n",
       "      <td>Zakarian, Mr. Mapriededer</td>\n",
       "      <td>male</td>\n",
       "      <td>26.5000</td>\n",
       "      <td>0.0</td>\n",
       "      <td>0.0</td>\n",
       "      <td>2656</td>\n",
       "      <td>7.2250</td>\n",
       "      <td>None</td>\n",
       "      <td>C</td>\n",
       "      <td>None</td>\n",
       "      <td>304.0</td>\n",
       "      <td>None</td>\n",
       "    </tr>\n",
       "    <tr>\n",
       "      <th>1307</th>\n",
       "      <td>3.0</td>\n",
       "      <td>Zakarian, Mr. Ortin</td>\n",
       "      <td>male</td>\n",
       "      <td>27.0000</td>\n",
       "      <td>0.0</td>\n",
       "      <td>0.0</td>\n",
       "      <td>2670</td>\n",
       "      <td>7.2250</td>\n",
       "      <td>None</td>\n",
       "      <td>C</td>\n",
       "      <td>None</td>\n",
       "      <td>NaN</td>\n",
       "      <td>None</td>\n",
       "    </tr>\n",
       "    <tr>\n",
       "      <th>1308</th>\n",
       "      <td>3.0</td>\n",
       "      <td>Zimmerman, Mr. Leo</td>\n",
       "      <td>male</td>\n",
       "      <td>29.0000</td>\n",
       "      <td>0.0</td>\n",
       "      <td>0.0</td>\n",
       "      <td>315082</td>\n",
       "      <td>7.8750</td>\n",
       "      <td>None</td>\n",
       "      <td>S</td>\n",
       "      <td>None</td>\n",
       "      <td>NaN</td>\n",
       "      <td>None</td>\n",
       "    </tr>\n",
       "  </tbody>\n",
       "</table>\n",
       "<p>1309 rows × 13 columns</p>\n",
       "</div>"
      ],
      "text/plain": [
       "      pclass                                             name     sex  \\\n",
       "0        1.0                    Allen, Miss. Elisabeth Walton  female   \n",
       "1        1.0                   Allison, Master. Hudson Trevor    male   \n",
       "2        1.0                     Allison, Miss. Helen Loraine  female   \n",
       "3        1.0             Allison, Mr. Hudson Joshua Creighton    male   \n",
       "4        1.0  Allison, Mrs. Hudson J C (Bessie Waldo Daniels)  female   \n",
       "...      ...                                              ...     ...   \n",
       "1304     3.0                             Zabour, Miss. Hileni  female   \n",
       "1305     3.0                            Zabour, Miss. Thamine  female   \n",
       "1306     3.0                        Zakarian, Mr. Mapriededer    male   \n",
       "1307     3.0                              Zakarian, Mr. Ortin    male   \n",
       "1308     3.0                               Zimmerman, Mr. Leo    male   \n",
       "\n",
       "          age  sibsp  parch  ticket      fare    cabin embarked  boat   body  \\\n",
       "0     29.0000    0.0    0.0   24160  211.3375       B5        S     2    NaN   \n",
       "1      0.9167    1.0    2.0  113781  151.5500  C22 C26        S    11    NaN   \n",
       "2      2.0000    1.0    2.0  113781  151.5500  C22 C26        S  None    NaN   \n",
       "3     30.0000    1.0    2.0  113781  151.5500  C22 C26        S  None  135.0   \n",
       "4     25.0000    1.0    2.0  113781  151.5500  C22 C26        S  None    NaN   \n",
       "...       ...    ...    ...     ...       ...      ...      ...   ...    ...   \n",
       "1304  14.5000    1.0    0.0    2665   14.4542     None        C  None  328.0   \n",
       "1305      NaN    1.0    0.0    2665   14.4542     None        C  None    NaN   \n",
       "1306  26.5000    0.0    0.0    2656    7.2250     None        C  None  304.0   \n",
       "1307  27.0000    0.0    0.0    2670    7.2250     None        C  None    NaN   \n",
       "1308  29.0000    0.0    0.0  315082    7.8750     None        S  None    NaN   \n",
       "\n",
       "                            home.dest  \n",
       "0                        St Louis, MO  \n",
       "1     Montreal, PQ / Chesterville, ON  \n",
       "2     Montreal, PQ / Chesterville, ON  \n",
       "3     Montreal, PQ / Chesterville, ON  \n",
       "4     Montreal, PQ / Chesterville, ON  \n",
       "...                               ...  \n",
       "1304                             None  \n",
       "1305                             None  \n",
       "1306                             None  \n",
       "1307                             None  \n",
       "1308                             None  \n",
       "\n",
       "[1309 rows x 13 columns]"
      ]
     },
     "execution_count": 2,
     "metadata": {},
     "output_type": "execute_result"
    }
   ],
   "source": [
    "from sklearn.datasets import fetch_openml\n",
    "titanic = fetch_openml('titanic',version=1, as_frame=True)\n",
    "titanic_df = pd.DataFrame(data=titanic['data'])\n",
    "titanic_df"
   ]
  },
  {
   "cell_type": "code",
   "execution_count": 3,
   "id": "1b14e554",
   "metadata": {
    "scrolled": true
   },
   "outputs": [
    {
     "data": {
      "text/plain": [
       "[<matplotlib.lines.Line2D at 0x1e9f0a0b7c0>]"
      ]
     },
     "execution_count": 3,
     "metadata": {},
     "output_type": "execute_result"
    },
    {
     "data": {
      "image/png": "[encoded data removed]",
      "text/plain": [
       "<Figure size 640x480 with 1 Axes>"
      ]
     },
     "metadata": {},
     "output_type": "display_data"
    }
   ],
   "source": [
    "import matplotlib.pyplot as plt\n",
    "fig, ax = plt.subplots()\n",
    "dias = ['L','M','X','J','V','S','D']\n",
    "temperaturas = {'BsAs':[28.5,30.5,31,33,35,29.4,28.5],'SantiagodelEstero':[40,41.5,41.2,37,36,33.4,35]}\n",
    "ax.plot(dias,temperaturas['BsAs'], label = 'BsAs')\n",
    "ax.plot(dias,temperaturas['SantiagodelEstero'], color='tab:green',label = 'SantiagodelEstero')"
   ]
  },
  {
   "cell_type": "markdown",
   "id": "6fcc346c",
   "metadata": {},
   "source": [
    "## Gráfico de barras"
   ]
  },
  {
   "cell_type": "code",
   "execution_count": 4,
   "id": "855c3928",
   "metadata": {},
   "outputs": [
    {
     "data": {
      "text/plain": [
       "<matplotlib.legend.Legend at 0x1e9f12b4d30>"
      ]
     },
     "execution_count": 4,
     "metadata": {},
     "output_type": "execute_result"
    },
    {
     "data": {
      "image/png": "[encoded data removed]",
      "text/plain": [
       "<Figure size 640x480 with 1 Axes>"
      ]
     },
     "metadata": {},
     "output_type": "display_data"
    }
   ],
   "source": [
    "import matplotlib.pyplot as plt\n",
    "fig_2, ax_2 = plt.subplots()\n",
    "ax_2.bar(dias, temperaturas['SantiagodelEstero'],label='SantiagodelEstero', color='green')\n",
    "ax_2.bar(dias, temperaturas['BsAs'],label='BsAs',color='red')\n",
    "plt.legend(loc = 'best')\n"
   ]
  },
  {
   "cell_type": "markdown",
   "id": "b6535656",
   "metadata": {},
   "source": [
    "## Distribución Frecuencias"
   ]
  },
  {
   "cell_type": "code",
   "execution_count": 5,
   "id": "f09b00e9",
   "metadata": {},
   "outputs": [
    {
     "data": {
      "text/plain": [
       "<BarContainer object of 3 artists>"
      ]
     },
     "execution_count": 5,
     "metadata": {},
     "output_type": "execute_result"
    },
    {
     "data": {
      "image/png": "[encoded data removed]",
      "text/plain": [
       "<Figure size 640x480 with 1 Axes>"
      ]
     },
     "metadata": {},
     "output_type": "display_data"
    }
   ],
   "source": [
    "fig_3, ax_3 = plt.subplots() \n",
    "sexos = data_0['sexo']\n",
    "frecuencias = data_0['frecuencia']\n",
    "ax_3.bar(sexos,frecuencias, color='purple')"
   ]
  },
  {
   "cell_type": "markdown",
   "id": "060639f8",
   "metadata": {},
   "source": [
    "## Medidas de tendencia central\n",
    "- Media aritmética\n",
    "- Mediana\n",
    "- Moda\n",
    "- Media recortada\n",
    "- Media ponderada"
   ]
  },
  {
   "cell_type": "code",
   "execution_count": 7,
   "id": "2629876d",
   "metadata": {},
   "outputs": [
    {
     "data": {
      "text/html": [
       "<div>\n",
       "<style scoped>\n",
       "    .dataframe tbody tr th:only-of-type {\n",
       "        vertical-align: middle;\n",
       "    }\n",
       "\n",
       "    .dataframe tbody tr th {\n",
       "        vertical-align: top;\n",
       "    }\n",
       "\n",
       "    .dataframe thead th {\n",
       "        text-align: right;\n",
       "    }\n",
       "</style>\n",
       "<table border=\"1\" class=\"dataframe\">\n",
       "  <thead>\n",
       "    <tr style=\"text-align: right;\">\n",
       "      <th></th>\n",
       "      <th>Country</th>\n",
       "      <th>Gold Medal</th>\n",
       "      <th>Silver Medal</th>\n",
       "      <th>Bronze Medal</th>\n",
       "      <th>Total</th>\n",
       "      <th>Rank By Total</th>\n",
       "    </tr>\n",
       "  </thead>\n",
       "  <tbody>\n",
       "    <tr>\n",
       "      <th>0</th>\n",
       "      <td>United States of America</td>\n",
       "      <td>39</td>\n",
       "      <td>41</td>\n",
       "      <td>33</td>\n",
       "      <td>113</td>\n",
       "      <td>1</td>\n",
       "    </tr>\n",
       "    <tr>\n",
       "      <th>1</th>\n",
       "      <td>People's Republic of China</td>\n",
       "      <td>38</td>\n",
       "      <td>32</td>\n",
       "      <td>18</td>\n",
       "      <td>88</td>\n",
       "      <td>2</td>\n",
       "    </tr>\n",
       "    <tr>\n",
       "      <th>2</th>\n",
       "      <td>Japan</td>\n",
       "      <td>27</td>\n",
       "      <td>14</td>\n",
       "      <td>17</td>\n",
       "      <td>58</td>\n",
       "      <td>5</td>\n",
       "    </tr>\n",
       "    <tr>\n",
       "      <th>3</th>\n",
       "      <td>Great Britain</td>\n",
       "      <td>22</td>\n",
       "      <td>21</td>\n",
       "      <td>22</td>\n",
       "      <td>65</td>\n",
       "      <td>4</td>\n",
       "    </tr>\n",
       "    <tr>\n",
       "      <th>4</th>\n",
       "      <td>ROC</td>\n",
       "      <td>20</td>\n",
       "      <td>28</td>\n",
       "      <td>23</td>\n",
       "      <td>71</td>\n",
       "      <td>3</td>\n",
       "    </tr>\n",
       "    <tr>\n",
       "      <th>...</th>\n",
       "      <td>...</td>\n",
       "      <td>...</td>\n",
       "      <td>...</td>\n",
       "      <td>...</td>\n",
       "      <td>...</td>\n",
       "      <td>...</td>\n",
       "    </tr>\n",
       "    <tr>\n",
       "      <th>88</th>\n",
       "      <td>Ghana</td>\n",
       "      <td>0</td>\n",
       "      <td>0</td>\n",
       "      <td>1</td>\n",
       "      <td>1</td>\n",
       "      <td>77</td>\n",
       "    </tr>\n",
       "    <tr>\n",
       "      <th>89</th>\n",
       "      <td>Grenada</td>\n",
       "      <td>0</td>\n",
       "      <td>0</td>\n",
       "      <td>1</td>\n",
       "      <td>1</td>\n",
       "      <td>77</td>\n",
       "    </tr>\n",
       "    <tr>\n",
       "      <th>90</th>\n",
       "      <td>Kuwait</td>\n",
       "      <td>0</td>\n",
       "      <td>0</td>\n",
       "      <td>1</td>\n",
       "      <td>1</td>\n",
       "      <td>77</td>\n",
       "    </tr>\n",
       "    <tr>\n",
       "      <th>91</th>\n",
       "      <td>Republic of Moldova</td>\n",
       "      <td>0</td>\n",
       "      <td>0</td>\n",
       "      <td>1</td>\n",
       "      <td>1</td>\n",
       "      <td>77</td>\n",
       "    </tr>\n",
       "    <tr>\n",
       "      <th>92</th>\n",
       "      <td>Syrian Arab Republic</td>\n",
       "      <td>0</td>\n",
       "      <td>0</td>\n",
       "      <td>1</td>\n",
       "      <td>1</td>\n",
       "      <td>77</td>\n",
       "    </tr>\n",
       "  </tbody>\n",
       "</table>\n",
       "<p>93 rows × 6 columns</p>\n",
       "</div>"
      ],
      "text/plain": [
       "                       Country  Gold Medal  Silver Medal  Bronze Medal  Total  \\\n",
       "0     United States of America          39            41            33    113   \n",
       "1   People's Republic of China          38            32            18     88   \n",
       "2                        Japan          27            14            17     58   \n",
       "3                Great Britain          22            21            22     65   \n",
       "4                          ROC          20            28            23     71   \n",
       "..                         ...         ...           ...           ...    ...   \n",
       "88                       Ghana           0             0             1      1   \n",
       "89                     Grenada           0             0             1      1   \n",
       "90                      Kuwait           0             0             1      1   \n",
       "91         Republic of Moldova           0             0             1      1   \n",
       "92        Syrian Arab Republic           0             0             1      1   \n",
       "\n",
       "    Rank By Total  \n",
       "0               1  \n",
       "1               2  \n",
       "2               5  \n",
       "3               4  \n",
       "4               3  \n",
       "..            ...  \n",
       "88             77  \n",
       "89             77  \n",
       "90             77  \n",
       "91             77  \n",
       "92             77  \n",
       "\n",
       "[93 rows x 6 columns]"
      ]
     },
     "execution_count": 7,
     "metadata": {},
     "output_type": "execute_result"
    }
   ],
   "source": [
    "medals = pd.read_csv('../curso-estadistica/files/medals.csv')\n",
    "medals"
   ]
  },
  {
   "cell_type": "code",
   "execution_count": 9,
   "id": "6644462f",
   "metadata": {},
   "outputs": [
    {
     "data": {
      "text/plain": [
       "11.612903225806452"
      ]
     },
     "execution_count": 9,
     "metadata": {},
     "output_type": "execute_result"
    }
   ],
   "source": [
    "mean = medals['Total'].mean()\n",
    "mean"
   ]
  },
  {
   "cell_type": "code",
   "execution_count": 10,
   "id": "37e29e95",
   "metadata": {},
   "outputs": [
    {
     "name": "stdout",
     "output_type": "stream",
     "text": [
      "La mediana del set de medallas es:  4.0\n"
     ]
    }
   ],
   "source": [
    "print('La mediana del set de medallas es: ',medals['Total'].median())"
   ]
  },
  {
   "cell_type": "markdown",
   "id": "ef72b674",
   "metadata": {},
   "source": [
    "## Media recortada\n",
    "Una media recortada o truncada recorta valores atípicos. Los valores atípicos pueden afectar a la media"
   ]
  },
  {
   "cell_type": "code",
   "execution_count": 12,
   "id": "8eedc326",
   "metadata": {},
   "outputs": [
    {
     "name": "stdout",
     "output_type": "stream",
     "text": [
      "La media del set de medallas recortadas en un 10 % es:  5.578947368421052\n"
     ]
    }
   ],
   "source": [
    "from scipy.stats import trim_mean \n",
    "print('La media del set de medallas recortadas en un 10 % es: ',trim_mean(medals['Total'],0.2))"
   ]
  },
  {
   "cell_type": "code",
   "execution_count": null,
   "id": "2d7c38b2",
   "metadata": {},
   "outputs": [],
   "source": []
  }
 ],
 "metadata": {
  "kernelspec": {
   "display_name": "Python 3 (ipykernel)",
   "language": "python",
   "name": "python3"
  },
  "language_info": {
   "codemirror_mode": {
    "name": "ipython",
    "version": 3
   },
   "file_extension": ".py",
   "mimetype": "text/x-python",
   "name": "python",
   "nbconvert_exporter": "python",
   "pygments_lexer": "ipython3",
   "version": "3.9.13"
  }
 },
 "nbformat": 4,
 "nbformat_minor": 5
}
